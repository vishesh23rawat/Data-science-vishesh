{
 "cells": [
  {
   "cell_type": "code",
   "execution_count": 11,
   "id": "7e058368-4463-4499-b5de-bf169f9de0be",
   "metadata": {},
   "outputs": [
    {
     "data": {
      "text/plain": [
       "50"
      ]
     },
     "execution_count": 11,
     "metadata": {},
     "output_type": "execute_result"
    }
   ],
   "source": [
    "23+27"
   ]
  },
  {
   "cell_type": "code",
   "execution_count": 12,
   "id": "8a54cfdb-ab2c-4007-9977-e472deb4cf1f",
   "metadata": {},
   "outputs": [
    {
     "data": {
      "text/plain": [
       "-4"
      ]
     },
     "execution_count": 12,
     "metadata": {},
     "output_type": "execute_result"
    }
   ],
   "source": [
    "23-27"
   ]
  },
  {
   "cell_type": "code",
   "execution_count": 20,
   "id": "a4e44bba-f1bc-4f01-a2e3-f2b0bcd36c90",
   "metadata": {},
   "outputs": [
    {
     "data": {
      "text/plain": [
       "621"
      ]
     },
     "execution_count": 20,
     "metadata": {},
     "output_type": "execute_result"
    }
   ],
   "source": [
    "23*27"
   ]
  },
  {
   "cell_type": "code",
   "execution_count": 22,
   "id": "691b8624-e076-4ba4-b669-4efc72662ba5",
   "metadata": {},
   "outputs": [
    {
     "data": {
      "text/plain": [
       "621"
      ]
     },
     "execution_count": 22,
     "metadata": {},
     "output_type": "execute_result"
    }
   ],
   "source": [
    "23*27"
   ]
  },
  {
   "cell_type": "markdown",
   "id": "23718318-cb8c-4096-9c0f-32fd214bf38b",
   "metadata": {},
   "source": [
    "#hello\n",
    "##hello\n",
    "###hello\n",
    "1.hello guys"
   ]
  },
  {
   "cell_type": "markdown",
   "id": "a791348b-9d61-4f3c-a431-affe46dfa3d4",
   "metadata": {
    "slideshow": {
     "slide_type": "slide"
    },
    "tags": []
   },
   "source": [
    "#Numbers"
   ]
  },
  {
   "cell_type": "code",
   "execution_count": 24,
   "id": "091f6706-8088-44e9-a23b-343a3ef0eed1",
   "metadata": {},
   "outputs": [
    {
     "name": "stdout",
     "output_type": "stream",
     "text": [
      "46\n"
     ]
    }
   ],
   "source": [
    "print(23+23)"
   ]
  },
  {
   "cell_type": "code",
   "execution_count": 25,
   "id": "8fd4b208-157c-4dd8-aaa2-c421eee04b1f",
   "metadata": {},
   "outputs": [
    {
     "name": "stdout",
     "output_type": "stream",
     "text": [
      "hello world\n"
     ]
    }
   ],
   "source": [
    "print(\"hello world\")"
   ]
  },
  {
   "cell_type": "code",
   "execution_count": 27,
   "id": "cfd18e66-88bd-40d6-a1fc-bacd3a416a89",
   "metadata": {},
   "outputs": [
    {
     "name": "stdout",
     "output_type": "stream",
     "text": [
      "hello world\n"
     ]
    }
   ],
   "source": [
    "print(\"hello world\")"
   ]
  },
  {
   "cell_type": "code",
   "execution_count": 29,
   "id": "0e7ab820-166d-4e2d-a169-b3d9efe738ab",
   "metadata": {},
   "outputs": [
    {
     "name": "stdout",
     "output_type": "stream",
     "text": [
      "vishesh \n",
      " rawat\n"
     ]
    }
   ],
   "source": [
    "print(\"vishesh \\n rawat\")"
   ]
  },
  {
   "cell_type": "code",
   "execution_count": 30,
   "id": "d1e0a8cb-366b-4018-9ffa-e8dcb27c2d25",
   "metadata": {},
   "outputs": [],
   "source": [
    "name=\"vishu\""
   ]
  },
  {
   "cell_type": "code",
   "execution_count": 31,
   "id": "5898fd79-1c8b-415f-aa65-0994e03b4eea",
   "metadata": {},
   "outputs": [
    {
     "data": {
      "text/plain": [
       "'vishu'"
      ]
     },
     "execution_count": 31,
     "metadata": {},
     "output_type": "execute_result"
    }
   ],
   "source": [
    "name"
   ]
  },
  {
   "cell_type": "code",
   "execution_count": 32,
   "id": "d08f21fc-ea48-4f4d-9409-477687dc1883",
   "metadata": {},
   "outputs": [],
   "source": [
    "name1=\"vishesh\""
   ]
  },
  {
   "cell_type": "code",
   "execution_count": 33,
   "id": "f9cda438-0aa4-49d2-b526-21765978930e",
   "metadata": {},
   "outputs": [
    {
     "data": {
      "text/plain": [
       "'vishu'"
      ]
     },
     "execution_count": 33,
     "metadata": {},
     "output_type": "execute_result"
    }
   ],
   "source": [
    "name"
   ]
  },
  {
   "cell_type": "code",
   "execution_count": 37,
   "id": "58c61e9e-596f-40e1-bedb-92a85f7093a6",
   "metadata": {},
   "outputs": [
    {
     "data": {
      "text/plain": [
       "'vishesh'"
      ]
     },
     "execution_count": 37,
     "metadata": {},
     "output_type": "execute_result"
    }
   ],
   "source": [
    "name1"
   ]
  },
  {
   "cell_type": "code",
   "execution_count": 39,
   "id": "20955a39-f3b1-47d1-b8c7-da30b0d139d6",
   "metadata": {},
   "outputs": [],
   "source": [
    "company=\"ayush\""
   ]
  },
  {
   "cell_type": "code",
   "execution_count": 41,
   "id": "1eecc724-5263-4513-9d86-65c24c939064",
   "metadata": {},
   "outputs": [
    {
     "name": "stdout",
     "output_type": "stream",
     "text": [
      "ayush\n"
     ]
    }
   ],
   "source": [
    "print(company)"
   ]
  },
  {
   "cell_type": "code",
   "execution_count": 42,
   "id": "2916b049-d38d-46e2-9826-8f3483919b21",
   "metadata": {},
   "outputs": [
    {
     "data": {
      "text/plain": [
       "35.0"
      ]
     },
     "execution_count": 42,
     "metadata": {},
     "output_type": "execute_result"
    }
   ],
   "source": [
    "float(35)"
   ]
  },
  {
   "cell_type": "code",
   "execution_count": 44,
   "id": "784df562-68ac-4a64-93f6-2400863bc481",
   "metadata": {},
   "outputs": [
    {
     "data": {
      "text/plain": [
       "False"
      ]
     },
     "execution_count": 44,
     "metadata": {},
     "output_type": "execute_result"
    }
   ],
   "source": [
    "True and False "
   ]
  },
  {
   "cell_type": "code",
   "execution_count": 45,
   "id": "0afb98e6-4b30-4685-91ac-f9935fb2e14c",
   "metadata": {},
   "outputs": [
    {
     "data": {
      "text/plain": [
       "True"
      ]
     },
     "execution_count": 45,
     "metadata": {},
     "output_type": "execute_result"
    }
   ],
   "source": [
    "True or False"
   ]
  },
  {
   "cell_type": "code",
   "execution_count": 46,
   "id": "d6e69dd5-1db3-432c-be8c-57c0da2dcf31",
   "metadata": {},
   "outputs": [
    {
     "data": {
      "text/plain": [
       "False"
      ]
     },
     "execution_count": 46,
     "metadata": {},
     "output_type": "execute_result"
    }
   ],
   "source": [
    "not True"
   ]
  },
  {
   "cell_type": "code",
   "execution_count": 47,
   "id": "213bee0c-202d-40bf-9de3-e05b74ac678d",
   "metadata": {},
   "outputs": [
    {
     "data": {
      "text/plain": [
       "True"
      ]
     },
     "execution_count": 47,
     "metadata": {},
     "output_type": "execute_result"
    }
   ],
   "source": [
    "not False"
   ]
  },
  {
   "cell_type": "code",
   "execution_count": 48,
   "id": "4c1b5dcf-c73a-43e8-a94b-d9b68c928bf3",
   "metadata": {},
   "outputs": [
    {
     "data": {
      "text/plain": [
       "bool"
      ]
     },
     "execution_count": 48,
     "metadata": {},
     "output_type": "execute_result"
    }
   ],
   "source": [
    "type( True and False)"
   ]
  },
  {
   "cell_type": "code",
   "execution_count": 49,
   "id": "356b33b7-ecf1-4db1-9116-21dc45302197",
   "metadata": {},
   "outputs": [
    {
     "data": {
      "text/plain": [
       "False"
      ]
     },
     "execution_count": 49,
     "metadata": {},
     "output_type": "execute_result"
    }
   ],
   "source": [
    "bool(0)"
   ]
  },
  {
   "cell_type": "code",
   "execution_count": 50,
   "id": "264d5da3-d417-4010-a5c3-1d21e51d973e",
   "metadata": {},
   "outputs": [
    {
     "data": {
      "text/plain": [
       "True"
      ]
     },
     "execution_count": 50,
     "metadata": {},
     "output_type": "execute_result"
    }
   ],
   "source": [
    "bool(1)"
   ]
  },
  {
   "cell_type": "code",
   "execution_count": 51,
   "id": "2640d2db-c345-4d2a-b06d-a219803b1d7d",
   "metadata": {},
   "outputs": [
    {
     "data": {
      "text/plain": [
       "True"
      ]
     },
     "execution_count": 51,
     "metadata": {},
     "output_type": "execute_result"
    }
   ],
   "source": [
    "bool(5)"
   ]
  },
  {
   "cell_type": "code",
   "execution_count": 52,
   "id": "86cb3187-0b1a-4f5b-a2b1-cb42a91d4b08",
   "metadata": {},
   "outputs": [
    {
     "data": {
      "text/plain": [
       "True"
      ]
     },
     "execution_count": 52,
     "metadata": {},
     "output_type": "execute_result"
    }
   ],
   "source": [
    "bool(-4)"
   ]
  },
  {
   "cell_type": "code",
   "execution_count": 67,
   "id": "5b4cedf8-0bc5-4f7f-bf69-10d6564a0f97",
   "metadata": {},
   "outputs": [
    {
     "name": "stdout",
     "output_type": "stream",
     "text": [
      "iloveyou\n"
     ]
    }
   ],
   "source": [
    "a=10\n",
    "if bool(a)==True:\n",
    "\n",
    "    \n",
    "    print(\"iloveyou\")"
   ]
  },
  {
   "cell_type": "code",
   "execution_count": 68,
   "id": "6dc2667c-a88c-462f-a370-8670ee996ea9",
   "metadata": {},
   "outputs": [
    {
     "data": {
      "text/plain": [
       "'11'"
      ]
     },
     "execution_count": 68,
     "metadata": {},
     "output_type": "execute_result"
    }
   ],
   "source": [
    "\"1\"+\"1\""
   ]
  },
  {
   "cell_type": "code",
   "execution_count": 69,
   "id": "66431b65-1815-4179-afbd-282a1bd812a4",
   "metadata": {},
   "outputs": [
    {
     "data": {
      "text/plain": [
       "2"
      ]
     },
     "execution_count": 69,
     "metadata": {},
     "output_type": "execute_result"
    }
   ],
   "source": [
    "int(\"1\")+int(\"1\")"
   ]
  },
  {
   "cell_type": "code",
   "execution_count": 71,
   "id": "26423418-3aa8-431c-ab82-f1f96c2326d3",
   "metadata": {},
   "outputs": [
    {
     "data": {
      "text/plain": [
       "6"
      ]
     },
     "execution_count": 71,
     "metadata": {},
     "output_type": "execute_result"
    }
   ],
   "source": [
    "int(\"3\")+int(\"3\")"
   ]
  },
  {
   "cell_type": "code",
   "execution_count": 74,
   "id": "e3750820-e0c0-458a-9649-24612e9b7567",
   "metadata": {},
   "outputs": [
    {
     "data": {
      "text/plain": [
       "'100100'"
      ]
     },
     "execution_count": 74,
     "metadata": {},
     "output_type": "execute_result"
    }
   ],
   "source": [
    "2*\"100\""
   ]
  },
  {
   "cell_type": "code",
   "execution_count": 75,
   "id": "594e0e5f-8e7c-4fcb-8f7b-85ed34b4a243",
   "metadata": {},
   "outputs": [
    {
     "data": {
      "text/plain": [
       "11"
      ]
     },
     "execution_count": 75,
     "metadata": {},
     "output_type": "execute_result"
    }
   ],
   "source": [
    "int(\"1\"+\"1\")"
   ]
  },
  {
   "cell_type": "code",
   "execution_count": null,
   "id": "34ed814a-b609-4fde-9369-8732c4c20de6",
   "metadata": {},
   "outputs": [],
   "source": []
  }
 ],
 "metadata": {
  "kernelspec": {
   "display_name": "Python 3 (ipykernel)",
   "language": "python",
   "name": "python3"
  },
  "language_info": {
   "codemirror_mode": {
    "name": "ipython",
    "version": 3
   },
   "file_extension": ".py",
   "mimetype": "text/x-python",
   "name": "python",
   "nbconvert_exporter": "python",
   "pygments_lexer": "ipython3",
   "version": "3.10.8"
  }
 },
 "nbformat": 4,
 "nbformat_minor": 5
}
